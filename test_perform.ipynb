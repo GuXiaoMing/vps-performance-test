{
 "cells": [
  {
   "cell_type": "code",
   "execution_count": 1,
   "metadata": {},
   "outputs": [],
   "source": [
    "import requests\n",
    "import pandas as pd\n",
    "import logging\n",
    "import time\n",
    "import subprocess\n",
    "import re\n",
    "import traceback\n",
    "from subprocess import STDOUT, check_output\n",
    "from multiprocessing import Process, Value, Lock"
   ]
  },
  {
   "cell_type": "code",
   "execution_count": 2,
   "metadata": {},
   "outputs": [],
   "source": [
    "def ping(ip, count=100):\n",
    "    cmd = [\"ping\", ip, \"-c{}\".format(count), \"-i0.1\"]\n",
    "    out = check_output(cmd, stderr=STDOUT, timeout=count + 60)\n",
    "    out = out.decode(\"utf8\").strip('\\n')\n",
    "    lines = out.split('\\n')\n",
    "    stat_dict = dict()\n",
    "    m = re.search(\"(\\d+) packets transmitted, (\\d+) packets received\", lines[-2])\n",
    "    trans, rev = m.groups()\n",
    "    fields = list(lines[-1].strip().split(\" \"))\n",
    "    equal_index = fields.index(\"=\")\n",
    "    names = fields[equal_index - 1].split('/')\n",
    "    values = [float(x) for x in fields[equal_index + 1].split('/')]\n",
    "    kvs = zip(names, values)\n",
    "    stat_dict = {\n",
    "        \"transmitted\": int(trans),\n",
    "        \"received\": int(rev),\n",
    "        \"loss_rate\": (float(trans) - float(trans)) / float(trans)\n",
    "    }\n",
    "    for k, v in kvs:\n",
    "        stat_dict[k] = v\n",
    "    return stat_dict"
   ]
  },
  {
   "cell_type": "code",
   "execution_count": 3,
   "metadata": {},
   "outputs": [],
   "source": [
    "class Counter(object):\n",
    "    def __init__(self, initval=0):\n",
    "        self.val = Value('i', initval)\n",
    "        self.lock = Lock()\n",
    "\n",
    "    def increase(self, incr):\n",
    "        with self.lock:\n",
    "            self.val.value += incr\n",
    "\n",
    "    def value(self):\n",
    "        with self.lock:\n",
    "            return self.val.value\n",
    "\n",
    "def download(file_url, counter):\n",
    "    r = requests.get(file_url, stream=True)\n",
    "    chunk_size = 1024\n",
    "    for chunk in r.iter_content(chunk_size=chunk_size):\n",
    "        counter.increase(chunk_size)"
   ]
  },
  {
   "cell_type": "code",
   "execution_count": 4,
   "metadata": {},
   "outputs": [],
   "source": [
    "def getBandwith(file_url, process_cnt=20, duration=10):\n",
    "    start_time = time.time()\n",
    "    end_time = -1\n",
    "    counter = Counter(0)\n",
    "    procs = [Process(target=download, args=(file_url, counter)) for i in range(process_cnt)]\n",
    "    for p in procs:\n",
    "        p.start()\n",
    "    while True:\n",
    "        secs = time.time() - start_time\n",
    "        if secs > duration:\n",
    "            for p in procs:\n",
    "                if p.is_alive():\n",
    "                    p.kill()\n",
    "            break\n",
    "        time.sleep(1)\n",
    "    counter.lock.acquire(timeout=0.5)\n",
    "    counter.lock.release()\n",
    "    total_size = counter.value() / 1024 / 1024\n",
    "    bandwith = total_size / secs;\n",
    "    # print(\"{}M / {:.02f}s = {:.02f}Mbps\".format(total_size, secs, bandwith))\n",
    "    return bandwith"
   ]
  },
  {
   "cell_type": "code",
   "execution_count": 5,
   "metadata": {},
   "outputs": [],
   "source": [
    "def formatValue(value):\n",
    "    if type(value) is str:\n",
    "        return '\"{}\"'.format(value)\n",
    "    if type(value) is float:\n",
    "        return '{:.2f}'.format(value)\n",
    "    return str(value)"
   ]
  },
  {
   "cell_type": "code",
   "execution_count": 6,
   "metadata": {
    "scrolled": false
   },
   "outputs": [
    {
     "name": "stdout",
     "output_type": "stream",
     "text": [
      "Testing Seattle, Washington\n",
      "Testing Sydney, Australia\n",
      "Testing Dallas, Texas\n",
      "Testing Silicon Valley, California\n",
      "Testing Atlanta, Georgia\n",
      "Testing Toronto, Canada\n",
      "Testing Frankfurt, DE\n",
      "Testing Chicago, Illinois\n",
      "Testing Amsterdam, NL\n",
      "Testing Miami, Florida\n",
      "Testing Los Angeles, California\n",
      "Testing Tokyo, Japan\n",
      "Testing Singapore\n",
      "Testing London, UK\n",
      "Testing Paris, France\n",
      "Testing New York (NJ)\n",
      "test finished\n"
     ]
    }
   ],
   "source": [
    "df = pd.read_csv(\"./vultr.csv\")\n",
    "output_path = \"./vultr_statistics.csv\"\n",
    "output_obj = open(output_path, \"w\", buffering=1)\n",
    "colnames = [\"name\", \"loss_rate\", \"avg_rtt\", \"stddev_rtt\", \"bandwith\"]\n",
    "output_obj.write(\",\".join(colnames) + \"\\n\")\n",
    "\n",
    "for index, r in df.iterrows():\n",
    "    # print(\"Testing {}\".format(r[\"name\"]))\n",
    "    try:\n",
    "        ping_stat = ping(r[\"addr\"], 200)\n",
    "        try:\n",
    "            bandwith = getBandwith(r[\"test_file\"], 20, 10)\n",
    "        except Exception as e:\n",
    "            print(traceback.format_exc())\n",
    "            bandwith = -1\n",
    "        output_dict = {\n",
    "            \"name\": r[\"name\"],\n",
    "            \"loss_rate\": ping_stat[\"loss_rate\"],\n",
    "            \"avg_rtt\": ping_stat[\"avg\"],\n",
    "            \"stddev_rtt\": ping_stat[\"stddev\"],\n",
    "            \"bandwith\": bandwith\n",
    "        }\n",
    "        output_obj.write(\",\".join([formatValue(output_dict[k]) for k in colnames]) + \"\\n\")\n",
    "    except Exception as e:\n",
    "        print(\"Failed\")\n",
    "        print(traceback.format_exc())\n",
    "output_obj.close()\n",
    "print(\"test finished\")\n",
    "res_df = pd.read_csv(output_path)"
   ]
  },
  {
   "cell_type": "code",
   "execution_count": null,
   "metadata": {},
   "outputs": [],
   "source": []
  }
 ],
 "metadata": {
  "kernelspec": {
   "display_name": "Python 3",
   "language": "python",
   "name": "python3"
  },
  "language_info": {
   "codemirror_mode": {
    "name": "ipython",
    "version": 3
   },
   "file_extension": ".py",
   "mimetype": "text/x-python",
   "name": "python",
   "nbconvert_exporter": "python",
   "pygments_lexer": "ipython3",
   "version": "3.7.1"
  }
 },
 "nbformat": 4,
 "nbformat_minor": 2
}
