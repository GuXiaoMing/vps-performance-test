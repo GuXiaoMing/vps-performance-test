{
 "cells": [
  {
   "cell_type": "code",
   "execution_count": 86,
   "metadata": {},
   "outputs": [],
   "source": [
    "from multiprocessing import Process, Value, Lock\n",
    "import time\n",
    "import os\n",
    "import signal"
   ]
  },
  {
   "cell_type": "code",
   "execution_count": 87,
   "metadata": {},
   "outputs": [],
   "source": [
    "class Counter(object):\n",
    "    def __init__(self, initval=0):\n",
    "        self.val = Value('i', initval)\n",
    "        self.lock = Lock()\n",
    "\n",
    "    def increase(self):\n",
    "        with self.lock:\n",
    "            # print(\"Process {} increasing the counter\".format(os.getpid()))\n",
    "            self.val.value += 1\n",
    "\n",
    "    def value(self):\n",
    "        with self.lock:\n",
    "            return self.val.value"
   ]
  },
  {
   "cell_type": "code",
   "execution_count": 88,
   "metadata": {},
   "outputs": [],
   "source": [
    "def slave(index, counter):\n",
    "    def sigterm_handler(signal, frame):\n",
    "        print(\"sigterm captured by process {}\".format(index))\n",
    "        raise Exception(\"received sigterm\")\n",
    "    signal.signal(signal.SIGTERM, sigterm_handler)\n",
    "    for i in range(0, 100):\n",
    "        # print(\"Process {}, number = {}\".format(index, i))\n",
    "        counter.increase()\n",
    "        time.sleep(0.1)"
   ]
  },
  {
   "cell_type": "code",
   "execution_count": 89,
   "metadata": {},
   "outputs": [],
   "source": [
    "def master(duration=3):\n",
    "    process_cnt = 10\n",
    "    start_time = time.time()\n",
    "    counter = Counter(0)\n",
    "    procs = [Process(target=slave, args=(i, counter)) for i in range(process_cnt)]\n",
    "    for p in procs:\n",
    "        p.start()\n",
    "    while True:\n",
    "        secs = time.time() - start_time\n",
    "        # print(\"Time elapsed = {}s\".format(secs))\n",
    "        if secs > duration:\n",
    "            for p in procs:\n",
    "                p.kill()\n",
    "                # p.terminate()\n",
    "                # p.join()\n",
    "            break\n",
    "        time.sleep(1)\n",
    "    # print(\"All slaves killed\")\n",
    "    return counter.value()"
   ]
  },
  {
   "cell_type": "code",
   "execution_count": 90,
   "metadata": {},
   "outputs": [
    {
     "name": "stdout",
     "output_type": "stream",
     "text": [
      "Round 0\n",
      "Value = 108\n",
      "Round 1\n",
      "Value = 107\n",
      "Round 2\n",
      "Value = 107\n",
      "Round 3\n",
      "Value = 107\n",
      "Round 4\n",
      "Value = 107\n",
      "Round 5\n",
      "Value = 107\n",
      "Round 6\n",
      "Value = 107\n",
      "Round 7\n",
      "Value = 107\n",
      "Round 8\n",
      "Value = 107\n",
      "Round 9\n",
      "Value = 107\n",
      "Round 10\n",
      "Value = 107\n",
      "Round 11\n",
      "Value = 108\n",
      "Round 12\n",
      "Value = 108\n",
      "Round 13\n"
     ]
    },
    {
     "name": "stderr",
     "output_type": "stream",
     "text": [
      "Process Process-1829:\n",
      "Process Process-1825:\n",
      "Process Process-1830:\n",
      "Process Process-1824:\n",
      "Process Process-1823:\n",
      "Process Process-1827:\n",
      "Process Process-1826:\n",
      "Process Process-1821:\n",
      "Process Process-1828:\n",
      "Process Process-1822:\n",
      "Traceback (most recent call last):\n",
      "Traceback (most recent call last):\n",
      "Traceback (most recent call last):\n",
      "Traceback (most recent call last):\n",
      "Traceback (most recent call last):\n",
      "Traceback (most recent call last):\n",
      "Traceback (most recent call last):\n",
      "Traceback (most recent call last):\n",
      "Traceback (most recent call last):\n",
      "  File \"/Users/minggu/miniconda3/envs/vps_test/lib/python3.7/multiprocessing/process.py\", line 297, in _bootstrap\n",
      "    self.run()\n",
      "  File \"/Users/minggu/miniconda3/envs/vps_test/lib/python3.7/multiprocessing/process.py\", line 297, in _bootstrap\n",
      "    self.run()\n",
      "  File \"/Users/minggu/miniconda3/envs/vps_test/lib/python3.7/multiprocessing/process.py\", line 297, in _bootstrap\n",
      "    self.run()\n",
      "  File \"/Users/minggu/miniconda3/envs/vps_test/lib/python3.7/multiprocessing/process.py\", line 297, in _bootstrap\n",
      "    self.run()\n",
      "Traceback (most recent call last):\n",
      "  File \"/Users/minggu/miniconda3/envs/vps_test/lib/python3.7/multiprocessing/process.py\", line 297, in _bootstrap\n",
      "    self.run()\n",
      "  File \"/Users/minggu/miniconda3/envs/vps_test/lib/python3.7/multiprocessing/process.py\", line 297, in _bootstrap\n",
      "    self.run()\n",
      "  File \"/Users/minggu/miniconda3/envs/vps_test/lib/python3.7/multiprocessing/process.py\", line 297, in _bootstrap\n",
      "    self.run()\n",
      "  File \"/Users/minggu/miniconda3/envs/vps_test/lib/python3.7/multiprocessing/process.py\", line 297, in _bootstrap\n",
      "    self.run()\n",
      "  File \"/Users/minggu/miniconda3/envs/vps_test/lib/python3.7/multiprocessing/process.py\", line 297, in _bootstrap\n",
      "    self.run()\n",
      "  File \"/Users/minggu/miniconda3/envs/vps_test/lib/python3.7/multiprocessing/process.py\", line 99, in run\n",
      "    self._target(*self._args, **self._kwargs)\n",
      "  File \"/Users/minggu/miniconda3/envs/vps_test/lib/python3.7/multiprocessing/process.py\", line 99, in run\n",
      "    self._target(*self._args, **self._kwargs)\n",
      "  File \"/Users/minggu/miniconda3/envs/vps_test/lib/python3.7/multiprocessing/process.py\", line 99, in run\n",
      "    self._target(*self._args, **self._kwargs)\n",
      "  File \"/Users/minggu/miniconda3/envs/vps_test/lib/python3.7/multiprocessing/process.py\", line 99, in run\n",
      "    self._target(*self._args, **self._kwargs)\n"
     ]
    },
    {
     "ename": "KeyboardInterrupt",
     "evalue": "",
     "output_type": "error",
     "traceback": [
      "\u001b[0;31m---------------------------------------------------------------------------\u001b[0m",
      "\u001b[0;31mKeyboardInterrupt\u001b[0m                         Traceback (most recent call last)",
      "\u001b[0;32m<ipython-input-90-4f2a6d9331b1>\u001b[0m in \u001b[0;36m<module>\u001b[0;34m\u001b[0m\n\u001b[1;32m      1\u001b[0m \u001b[0;32mfor\u001b[0m \u001b[0mi\u001b[0m \u001b[0;32min\u001b[0m \u001b[0mrange\u001b[0m\u001b[0;34m(\u001b[0m\u001b[0;36m0\u001b[0m\u001b[0;34m,\u001b[0m \u001b[0;36m100\u001b[0m\u001b[0;34m)\u001b[0m\u001b[0;34m:\u001b[0m\u001b[0;34m\u001b[0m\u001b[0;34m\u001b[0m\u001b[0m\n\u001b[1;32m      2\u001b[0m     \u001b[0mprint\u001b[0m\u001b[0;34m(\u001b[0m\u001b[0;34m\"Round {}\"\u001b[0m\u001b[0;34m.\u001b[0m\u001b[0mformat\u001b[0m\u001b[0;34m(\u001b[0m\u001b[0mi\u001b[0m\u001b[0;34m)\u001b[0m\u001b[0;34m)\u001b[0m\u001b[0;34m\u001b[0m\u001b[0;34m\u001b[0m\u001b[0m\n\u001b[0;32m----> 3\u001b[0;31m     \u001b[0mvalue\u001b[0m \u001b[0;34m=\u001b[0m \u001b[0mmaster\u001b[0m\u001b[0;34m(\u001b[0m\u001b[0;36m1\u001b[0m\u001b[0;34m)\u001b[0m\u001b[0;34m\u001b[0m\u001b[0;34m\u001b[0m\u001b[0m\n\u001b[0m\u001b[1;32m      4\u001b[0m     \u001b[0mprint\u001b[0m\u001b[0;34m(\u001b[0m\u001b[0;34m\"Value = {}\"\u001b[0m\u001b[0;34m.\u001b[0m\u001b[0mformat\u001b[0m\u001b[0;34m(\u001b[0m\u001b[0mvalue\u001b[0m\u001b[0;34m)\u001b[0m\u001b[0;34m)\u001b[0m\u001b[0;34m\u001b[0m\u001b[0;34m\u001b[0m\u001b[0m\n",
      "\u001b[0;32m<ipython-input-89-6cef6c029e57>\u001b[0m in \u001b[0;36mmaster\u001b[0;34m(duration)\u001b[0m\n\u001b[1;32m     15\u001b[0m                 \u001b[0;31m# p.join()\u001b[0m\u001b[0;34m\u001b[0m\u001b[0;34m\u001b[0m\u001b[0;34m\u001b[0m\u001b[0m\n\u001b[1;32m     16\u001b[0m             \u001b[0;32mbreak\u001b[0m\u001b[0;34m\u001b[0m\u001b[0;34m\u001b[0m\u001b[0m\n\u001b[0;32m---> 17\u001b[0;31m         \u001b[0mtime\u001b[0m\u001b[0;34m.\u001b[0m\u001b[0msleep\u001b[0m\u001b[0;34m(\u001b[0m\u001b[0;36m1\u001b[0m\u001b[0;34m)\u001b[0m\u001b[0;34m\u001b[0m\u001b[0;34m\u001b[0m\u001b[0m\n\u001b[0m\u001b[1;32m     18\u001b[0m     \u001b[0;31m# print(\"All slaves killed\")\u001b[0m\u001b[0;34m\u001b[0m\u001b[0;34m\u001b[0m\u001b[0;34m\u001b[0m\u001b[0m\n\u001b[1;32m     19\u001b[0m     \u001b[0;32mreturn\u001b[0m \u001b[0mcounter\u001b[0m\u001b[0;34m.\u001b[0m\u001b[0mvalue\u001b[0m\u001b[0;34m(\u001b[0m\u001b[0;34m)\u001b[0m\u001b[0;34m\u001b[0m\u001b[0;34m\u001b[0m\u001b[0m\n",
      "\u001b[0;31mKeyboardInterrupt\u001b[0m: "
     ]
    },
    {
     "name": "stderr",
     "output_type": "stream",
     "text": [
      "  File \"/Users/minggu/miniconda3/envs/vps_test/lib/python3.7/multiprocessing/process.py\", line 99, in run\n",
      "    self._target(*self._args, **self._kwargs)\n",
      "  File \"/Users/minggu/miniconda3/envs/vps_test/lib/python3.7/multiprocessing/process.py\", line 297, in _bootstrap\n",
      "    self.run()\n",
      "  File \"/Users/minggu/miniconda3/envs/vps_test/lib/python3.7/multiprocessing/process.py\", line 99, in run\n",
      "    self._target(*self._args, **self._kwargs)\n",
      "  File \"/Users/minggu/miniconda3/envs/vps_test/lib/python3.7/multiprocessing/process.py\", line 99, in run\n",
      "    self._target(*self._args, **self._kwargs)\n",
      "  File \"/Users/minggu/miniconda3/envs/vps_test/lib/python3.7/multiprocessing/process.py\", line 99, in run\n",
      "    self._target(*self._args, **self._kwargs)\n",
      "  File \"/Users/minggu/miniconda3/envs/vps_test/lib/python3.7/multiprocessing/process.py\", line 99, in run\n",
      "    self._target(*self._args, **self._kwargs)\n",
      "  File \"<ipython-input-88-4f353eeb805c>\", line 9, in slave\n",
      "    time.sleep(0.1)\n",
      "  File \"<ipython-input-88-4f353eeb805c>\", line 9, in slave\n",
      "    time.sleep(0.1)\n",
      "  File \"<ipython-input-88-4f353eeb805c>\", line 9, in slave\n",
      "    time.sleep(0.1)\n",
      "  File \"<ipython-input-88-4f353eeb805c>\", line 9, in slave\n",
      "    time.sleep(0.1)\n",
      "  File \"/Users/minggu/miniconda3/envs/vps_test/lib/python3.7/multiprocessing/process.py\", line 99, in run\n",
      "    self._target(*self._args, **self._kwargs)\n",
      "  File \"<ipython-input-88-4f353eeb805c>\", line 9, in slave\n",
      "    time.sleep(0.1)\n",
      "  File \"<ipython-input-88-4f353eeb805c>\", line 9, in slave\n",
      "    time.sleep(0.1)\n",
      "  File \"<ipython-input-88-4f353eeb805c>\", line 9, in slave\n",
      "    time.sleep(0.1)\n",
      "  File \"<ipython-input-88-4f353eeb805c>\", line 9, in slave\n",
      "    time.sleep(0.1)\n",
      "  File \"<ipython-input-88-4f353eeb805c>\", line 9, in slave\n",
      "    time.sleep(0.1)\n",
      "KeyboardInterrupt\n",
      "KeyboardInterrupt\n",
      "KeyboardInterrupt\n",
      "KeyboardInterrupt\n",
      "  File \"<ipython-input-88-4f353eeb805c>\", line 9, in slave\n",
      "    time.sleep(0.1)\n",
      "KeyboardInterrupt\n",
      "KeyboardInterrupt\n",
      "KeyboardInterrupt\n",
      "KeyboardInterrupt\n",
      "KeyboardInterrupt\n",
      "KeyboardInterrupt\n"
     ]
    }
   ],
   "source": [
    "for i in range(0, 100):\n",
    "    print(\"Round {}\".format(i))\n",
    "    value = master(1)\n",
    "    print(\"Value = {}\".format(value))"
   ]
  },
  {
   "cell_type": "code",
   "execution_count": null,
   "metadata": {},
   "outputs": [],
   "source": []
  }
 ],
 "metadata": {
  "kernelspec": {
   "display_name": "Python 3",
   "language": "python",
   "name": "python3"
  },
  "language_info": {
   "codemirror_mode": {
    "name": "ipython",
    "version": 3
   },
   "file_extension": ".py",
   "mimetype": "text/x-python",
   "name": "python",
   "nbconvert_exporter": "python",
   "pygments_lexer": "ipython3",
   "version": "3.7.1"
  }
 },
 "nbformat": 4,
 "nbformat_minor": 2
}
